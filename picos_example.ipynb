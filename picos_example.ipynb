{
 "cells": [
  {
   "cell_type": "markdown",
   "metadata": {},
   "source": [
    "# Max-cut SDP relaxation"
   ]
  },
  {
   "cell_type": "markdown",
   "metadata": {},
   "source": [
    "Here we solve the relaxed SDP to find the MAX cut in a graph. The goal is to find integral solution for $\\gamma$-stable graphs.\n",
    "More about this in this paper: https://arxiv.org/abs/1305.1681,in particular definition 2.3."
   ]
  },
  {
   "cell_type": "code",
   "execution_count": 1,
   "metadata": {
    "collapsed": false
   },
   "outputs": [],
   "source": [
    "%matplotlib inline\n",
    "import networkx as nx\n",
    "import numpy as np\n",
    "import picos as pic\n",
    "import pylab"
   ]
  },
  {
   "cell_type": "markdown",
   "metadata": {},
   "source": [
    "### Problem setup"
   ]
  },
  {
   "cell_type": "code",
   "execution_count": 2,
   "metadata": {
    "collapsed": false
   },
   "outputs": [],
   "source": [
    "W = np.array([[0,4,0,8],[4,0,0,2],[0,0,0,7],[8,2,7,0]])\n",
    "G = nx.from_numpy_matrix(W)\n",
    "L = nx.laplacian_matrix(G).todense()"
   ]
  },
  {
   "cell_type": "markdown",
   "metadata": {},
   "source": [
    "## Solving the relaxed SDP with triangle inequalities"
   ]
  },
  {
   "cell_type": "code",
   "execution_count": 3,
   "metadata": {
    "collapsed": false
   },
   "outputs": [
    {
     "name": "stdout",
     "output_type": "stream",
     "text": [
      "{'time': 0.008936882019042969, 'cvxopt_sol': {'s': <272x1 matrix, tc='d'>, 'x': <10x1 matrix, tc='d'>, 'dual objective': -76.00000052607639, 'residual as dual infeasibility certificate': None, 'residual as primal infeasibility certificate': None, 'status': 'optimal', 'primal infeasibility': 2.422191921200266e-09, 'relative gap': 1.4381767288595134e-08, 'dual slack': 1.3267550581544602e-09, 'primal objective': -75.99999971351623, 'gap': 1.0930143098130873e-06, 'y': <4x1 matrix, tc='d'>, 'z': <272x1 matrix, tc='d'>, 'iterations': 6, 'primal slack': 2.403487699479747e-09, 'dual infeasibility': 2.2773570244771605e-10}, 'obj': 76.00000011979631, 'status': 'optimal'}\n"
     ]
    }
   ],
   "source": [
    "n = L.shape[0]\n",
    "# max_cut_w_ti stands for max-cut with triangle inequalities\n",
    "max_cut_w_ti = pic.Problem()\n",
    "X = max_cut_w_ti.add_variable('X', (n, n), 'symmetric')\n",
    "node_triples = [\n",
    "    (i, j, k) for i in range(n) for j in range(n) for k in range(n)]\n",
    "\n",
    "L_param = pic.new_param('L', L)\n",
    "# Objective\n",
    "max_cut_w_ti.set_objective('max', L_param | X)\n",
    "# Ones on the diagonal\n",
    "max_cut_w_ti.add_constraint(pic.tools.diag_vect(X) == 1)\n",
    "# X positive semidefinite\n",
    "max_cut_w_ti.add_constraint(X >> 0)\n",
    "\n",
    "# First triangle inequality\n",
    "max_cut_w_ti.add_list_of_constraints(\n",
    "    [X[i, j] + X[j, k] + X[k, i] > -1 for (i, j, k) in node_triples],\n",
    "    ['i', 'j', 'k'],\n",
    "    'node triples')\n",
    "# Second triangle inequality\n",
    "max_cut_w_ti.add_list_of_constraints(\n",
    "    [X[i, j] - X[j, k] - X[k, i] > -1 for (i, j, k) in node_triples],\n",
    "    ['i', 'j', 'k'],\n",
    "    'node triples')\n",
    "# Third triangle inequality\n",
    "max_cut_w_ti.add_list_of_constraints(\n",
    "    [-X[i, j] + X[j, k] - X[k, i] > -1 for (i, j, k) in node_triples],\n",
    "    ['i', 'j', 'k'],\n",
    "    'node triples')\n",
    "# Fourth triangle inequality\n",
    "max_cut_w_ti.add_list_of_constraints(\n",
    "    [-X[i, j] - X[j, k] + X[k, i] > -1 for (i, j, k) in node_triples],\n",
    "    ['i', 'j', 'k'],\n",
    "    'node triples')\n",
    "\n",
    "print(max_cut_w_ti.solve(solver='cvxopt', verbose=0))"
   ]
  },
  {
   "cell_type": "markdown",
   "metadata": {},
   "source": [
    "## Node assignment"
   ]
  },
  {
   "cell_type": "code",
   "execution_count": 4,
   "metadata": {
    "collapsed": true
   },
   "outputs": [],
   "source": [
    "# cast to numpy array\n",
    "X_array=np.array(X.value)"
   ]
  },
  {
   "cell_type": "code",
   "execution_count": 5,
   "metadata": {
    "collapsed": true
   },
   "outputs": [],
   "source": [
    "def assignment_solution_sdp(X, threshold=0.00001):\n",
    "    ''' Checks whether the solution returned by the SDP is integral, and if it\n",
    "    is, returns the assignment defined by X.\n",
    "        Args:\n",
    "            - X (ndarray): the solution of the SDP.\n",
    "            - threshold (float): the threshold to check if rounding makes sense. All the differences\n",
    "            have to be below that threshold.\n",
    "        Outputs:\n",
    "            - list of bool: assignment for each node to a certain cluster if\n",
    "                solution is integral, False otherwise.\n",
    "    '''\n",
    "    rounded_X = np.round(X)\n",
    "    gap = np.absolute(rounded_X - X)\n",
    "    n = X.shape[0]\n",
    "    # we create a variable checking whether the rounding we do is correct\n",
    "    rounding = all([gap[i, j] < threshold for i in range(n) for j in range(n)])\n",
    "    scalar_products = sorted(\n",
    "        list(np.unique([int(round(x)) for x in np.unique(X)])))\n",
    "    if scalar_products == [-1, 1] and rounding:\n",
    "        return X[0, :] > 0\n",
    "    else:\n",
    "        return False"
   ]
  },
  {
   "cell_type": "code",
   "execution_count": 6,
   "metadata": {
    "collapsed": false
   },
   "outputs": [],
   "source": [
    "# we assign each node to its cluster (0 or 1)\n",
    "assignment_X = assignment_solution_sdp(X_array)"
   ]
  },
  {
   "cell_type": "markdown",
   "metadata": {},
   "source": [
    "## Let's display the solution"
   ]
  },
  {
   "cell_type": "code",
   "execution_count": 7,
   "metadata": {
    "collapsed": false
   },
   "outputs": [
    {
     "data": {
      "image/png": "[encoded data removed]",
      "text/plain": [
       "<matplotlib.figure.Figure at 0x7f8bbdf0d358>"
      ]
     },
     "metadata": {},
     "output_type": "display_data"
    }
   ],
   "source": [
    "fig=pylab.figure(figsize=(11,8))\n",
    "\n",
    "colors = ['g', 'r']\n",
    "\n",
    "node_colors=['w']*W.shape[0]\n",
    "for node, cluster in enumerate(assignment_X):\n",
    "    node_colors[node] = colors[int(cluster)]\n",
    "\n",
    "pos=nx.spring_layout(G)\n",
    "#edges\n",
    "nx.draw_networkx(G,pos,\n",
    "                edgelist=[e for e in G.edges()],\n",
    "                node_color=node_colors)\n",
    "\n",
    "\n",
    "labels={e:'{0}'.format(W[e]) for e in G.edges()}\n",
    "#flow label\n",
    "nx.draw_networkx_edge_labels(G, pos,\n",
    "                        edge_labels=labels)\n",
    "\n",
    "#hide axis\n",
    "fig.gca().axes.get_xaxis().set_ticks([])\n",
    "fig.gca().axes.get_yaxis().set_ticks([])\n",
    "\n",
    "pylab.show()"
   ]
  },
  {
   "cell_type": "code",
   "execution_count": null,
   "metadata": {
    "collapsed": true
   },
   "outputs": [],
   "source": []
  }
 ],
 "metadata": {
  "kernelspec": {
   "display_name": "Python 3",
   "language": "python",
   "name": "python3"
  },
  "language_info": {
   "codemirror_mode": {
    "name": "ipython",
    "version": 3
   },
   "file_extension": ".py",
   "mimetype": "text/x-python",
   "name": "python",
   "nbconvert_exporter": "python",
   "pygments_lexer": "ipython3",
   "version": "3.5.2"
  }
 },
 "nbformat": 4,
 "nbformat_minor": 2
}
