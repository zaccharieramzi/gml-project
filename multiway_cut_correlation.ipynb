{
 "cells": [
  {
   "cell_type": "markdown",
   "metadata": {},
   "source": [
    "## MULTIWAY CUT LP relaxation\n",
    "### Graph based on viewers rating movies\n",
    "Here we solve the relaxed LP to find the multiway cut in a graph. The goal of the minimum multiway Cut is to find a set of edges $E_2 \\subseteq E$ with minimum weight such that removing $E_2$ from $G$ separates all terminals nodes preselected."
   ]
  },
  {
   "cell_type": "code",
   "execution_count": null,
   "metadata": {
    "collapsed": true
   },
   "outputs": [],
   "source": [
    "from algo import build_laplacian, solve_sdp, assignment_solution\n",
    "from data_proc import build_a, build_graph, build_user_to_movies\n",
    "import numpy as np\n",
    "import networkx as nx"
   ]
  },
  {
   "cell_type": "markdown",
   "metadata": {},
   "source": [
    "## Fake data to illustrate the integral solution\n",
    "Easy multiway cut solution with 3 terminal nodes."
   ]
  },
  {
   "cell_type": "code",
   "execution_count": null,
   "metadata": {
    "collapsed": true
   },
   "outputs": [],
   "source": [
    "W = np.array([[0,5,0,0,0,0,1,8],\n",
    "              [5,0,1,0,0,0,0,0],\n",
    "              [0,1,0,8,0,0,0,0],\n",
    "              [0,0,8,0,1,0,0,0],\n",
    "              [0,0,0,1,0,3,0,0],\n",
    "              [0,0,0,0,3,0,3,0],\n",
    "              [1,0,0,0,0,3,0,1],\n",
    "              [8,0,0,0,0,0,1,0],\n",
    "             ])\n",
    "L = build_laplacian(W)\n",
    "T = [0,2,5]\n",
    "D = solve_multicut(L,T)\n",
    "print(D)"
   ]
  },
  {
   "cell_type": "code",
   "execution_count": null,
   "metadata": {
    "collapsed": true
   },
   "outputs": [],
   "source": [
    "assignement_D = assignment_solution_lp(D, T, threshold=0.00001)\n",
    "print(assignement_D)"
   ]
  },
  {
   "cell_type": "markdown",
   "metadata": {},
   "source": [
    "#### We introduce a gamma perturbation for only part of the edges"
   ]
  },
  {
   "cell_type": "code",
   "execution_count": null,
   "metadata": {
    "collapsed": true
   },
   "outputs": [],
   "source": [
    "gamma = 2\n",
    "# random boolean mask for which values will be changed\n",
    "mask = np.random.randint(0,2,size=W.shape).astype(np.bool)\n",
    "\n",
    "# random matrix the same shape of the data\n",
    "r = gamma * W\n",
    "\n",
    "# use your mask to replace values in your input array\n",
    "W_gamma2 = W.copy()\n",
    "W_gamma2[mask] = r[mask]\n",
    "L = build_laplacian(W_gamma2)\n",
    "D = solve_multicut(L,T)\n",
    "print(D)\n",
    "assignement_D = assignment_solution_lp(D, T, threshold=0.00001)\n",
    "print(assignement_D)"
   ]
  },
  {
   "cell_type": "markdown",
   "metadata": {},
   "source": [
    "## Simulated data\n",
    "Simulating a bipartite graph with viewers giving grades (between -2.5 and 2.5) to movies."
   ]
  },
  {
   "cell_type": "code",
   "execution_count": null,
   "metadata": {
    "collapsed": true
   },
   "outputs": [],
   "source": [
    "G=nx.Graph()\n",
    "\n",
    "G.add_edge(1,5,weight=1)\n",
    "G.add_edge(1,6,weight=1)\n",
    "G.add_edge(2,5,weight=1)\n",
    "G.add_edge(2,6,weight=1)\n",
    "G.add_edge(2,7,weight=-1)\n",
    "G.add_edge(2,8,weight=-1)\n",
    "G.add_edge(3,7,weight=1)\n",
    "G.add_edge(3,8,weight=1)\n",
    "G.add_edge(3,10,weight=2)\n",
    "G.add_edge(4,7,weight=-2)\n",
    "G.add_edge(4,9,weight=2)\n",
    "G.add_edge(4,10,weight=1)\n",
    "W = nx.to_numpy_matrix(G)\n",
    "L = build_laplacian(W)\n",
    "T = [5,7,9]\n",
    "D = solve_multicut(L,T)\n",
    "print(D)\n",
    "assignement_D = assignment_solution_lp(D, T, threshold=0.00001)\n",
    "print(assignement_D)"
   ]
  },
  {
   "cell_type": "markdown",
   "metadata": {},
   "source": [
    "#### We introduce a gamma perturbation for only part of the edges"
   ]
  },
  {
   "cell_type": "code",
   "execution_count": null,
   "metadata": {
    "collapsed": true
   },
   "outputs": [],
   "source": [
    "gamma = 2\n",
    "# random boolean mask for which values will be changed\n",
    "mask = np.random.randint(0,2,size=W.shape).astype(np.bool)\n",
    "\n",
    "# random matrix the same shape of the data\n",
    "r = gamma * W\n",
    "\n",
    "# use your mask to replace values in your input array\n",
    "W_gamma2 = W.copy()\n",
    "W_gamma2[mask] = r[mask]\n",
    "L = build_laplacian(W_gamma2)\n",
    "D = solve_multicut(L,T)\n",
    "print(D)\n",
    "assignement_D = assignment_solution_lp(D, T, threshold=0.00001)\n",
    "print(assignement_D)"
   ]
  },
  {
   "cell_type": "markdown",
   "metadata": {},
   "source": [
    "## Real data from themoviedb.org\n",
    "Extracting  a sub graph of the entire database"
   ]
  },
  {
   "cell_type": "code",
   "execution_count": null,
   "metadata": {
    "collapsed": true
   },
   "outputs": [],
   "source": [
    "# building the summary dictionary\n",
    "summary_dictionary = build_user_to_movies('movielens.tsv')\n",
    "# unpacking of the dictionary\n",
    "users_to_movies = summary_dictionary['users_to_movies']\n",
    "n_users = summary_dictionary['n_users']\n",
    "k_users = 6\n",
    "n_movies = summary_dictionary['n_movies']\n",
    "k_movies = 8\n",
    "# building the rating matrix\n",
    "a = build_a(n_users, k_users, n_movies, k_movies, users_to_movies)\n",
    "# building the adjacency matrix\n",
    "W = build_graph(k_users, k_movies, a)\n",
    "print(W)"
   ]
  },
  {
   "cell_type": "code",
   "execution_count": null,
   "metadata": {
    "collapsed": true
   },
   "outputs": [],
   "source": [
    "# the laplacian of the graph\n",
    "L = build_laplacian(W)\n",
    "T = [0,2]\n",
    "D = solve_multicut(L,T)\n",
    "D_array=np.array(D)\n",
    "print(np.round(D_array))\n",
    "assignement_D = assignment_solution_lp(D_array, T, threshold=0.00001)\n",
    "print(assignement_D)"
   ]
  },
  {
   "cell_type": "markdown",
   "metadata": {},
   "source": [
    "#### We introduce a gamma perturbation for only part of the edges"
   ]
  },
  {
   "cell_type": "code",
   "execution_count": null,
   "metadata": {
    "collapsed": true
   },
   "outputs": [],
   "source": [
    "gamma = 2\n",
    "# random boolean mask for which values will be changed\n",
    "mask = np.random.randint(0,2,size=W.shape).astype(np.bool)\n",
    "\n",
    "# random matrix the same shape of the data\n",
    "r = gamma * W\n",
    "\n",
    "# use your mask to replace values in your input array\n",
    "W_gamma2 = W.copy()\n",
    "W_gamma2[mask] = r[mask]\n",
    "L = build_laplacian(W_gamma2)\n",
    "D = solve_multicut(L,T)\n",
    "print(D)\n",
    "assignement_D = assignment_solution_lp(D, T, threshold=0.00001)\n",
    "print(assignement_D)"
   ]
  }
 ],
 "metadata": {
  "kernelspec": {
   "display_name": "Python 3",
   "language": "python",
   "name": "python3"
  },
  "language_info": {
   "codemirror_mode": {
    "name": "ipython",
    "version": 3
   },
   "file_extension": ".py",
   "mimetype": "text/x-python",
   "name": "python",
   "nbconvert_exporter": "python",
   "pygments_lexer": "ipython3",
   "version": "3.5.2"
  }
 },
 "nbformat": 4,
 "nbformat_minor": 2
}
