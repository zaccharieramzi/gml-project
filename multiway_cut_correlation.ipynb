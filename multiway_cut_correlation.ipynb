{
 "cells": [
  {
   "cell_type": "markdown",
   "metadata": {},
   "source": [
    "## MULTIWAY CUT LP relaxation\n",
    "### Graph based on viewers rating movies\n",
    "Here we solve the relaxed LP to find the multiway cut in a graph. The goal of the minimum multiway Cut is to find a set of edges $E_2 \\subseteq E$ with minimum weight such that removing $E_2$ from $G$ separates all terminals nodes preselected."
   ]
  },
  {
   "cell_type": "code",
   "execution_count": null,
   "metadata": {
    "collapsed": false
   },
   "outputs": [],
   "source": [
    "%matplotlib inline\n",
    "import networkx as nx\n",
    "import numpy as np\n",
    "import picos as pic\n",
    "import pylab\n",
    "\n",
    "from algo import build_laplacian, solve_multicut, assignment_solution_lp\n",
    "from data_proc import build_a, build_graph, build_user_to_movies"
   ]
  },
  {
   "cell_type": "code",
   "execution_count": null,
   "metadata": {
    "collapsed": true
   },
   "outputs": [],
   "source": [
    "np.set_printoptions(precision=2)"
   ]
  },
  {
   "cell_type": "markdown",
   "metadata": {},
   "source": [
    "## Fake data to illustrate the integral solution\n",
    "Easy multiway cut solution with 3 terminal nodes."
   ]
  },
  {
   "cell_type": "code",
   "execution_count": null,
   "metadata": {
    "collapsed": false
   },
   "outputs": [],
   "source": [
    "W = np.array([[0,10,0,0,0,0,1,15],\n",
    "              [10,0,1,0,0,0,0,0],\n",
    "              [0,1,0,10,0,0,0,0],\n",
    "              [0,0,10,0,1,0,0,0],\n",
    "              [0,0,0,1,0,10,0,0],\n",
    "              [0,0,0,0,10,0,10,0],\n",
    "              [1,0,0,0,0,10,0,1],\n",
    "              [15,0,0,0,0,0,1,0],\n",
    "             ])\n",
    "T = [0, 2, 5]"
   ]
  },
  {
   "cell_type": "code",
   "execution_count": null,
   "metadata": {
    "collapsed": false
   },
   "outputs": [],
   "source": [
    "D = solve_multicut(W, T)"
   ]
  },
  {
   "cell_type": "code",
   "execution_count": null,
   "metadata": {
    "collapsed": false
   },
   "outputs": [],
   "source": [
    "assignment_D = assignment_solution_lp(D, T, threshold=0.1)"
   ]
  },
  {
   "cell_type": "code",
   "execution_count": null,
   "metadata": {
    "collapsed": false
   },
   "outputs": [],
   "source": [
    "#display the graph\n",
    "G = nx.from_numpy_matrix(W)\n",
    "fig=pylab.figure(figsize=(11,8))\n",
    "\n",
    "colors = ['b', 'g', 'r']\n",
    "cluster_colors = dict()\n",
    "for cluster_number, cluster in enumerate(assignment_D):\n",
    "    cluster_colors[cluster] = colors[cluster_number]\n",
    "\n",
    "\n",
    "node_colors=['w']*W.shape[0]\n",
    "for cluster in assignment_D:\n",
    "    nodes = assignment_D[cluster]\n",
    "    for node in nodes:\n",
    "        node_colors[node] = cluster_colors[cluster]\n",
    "\n",
    "pos=nx.spring_layout(G)\n",
    "#edges\n",
    "nx.draw_networkx(G,pos,\n",
    "                edgelist=[e for e in G.edges()],\n",
    "                node_color=node_colors)\n",
    "\n",
    "\n",
    "labels={e:'{0}'.format(W[e]) for e in G.edges()}\n",
    "#flow label\n",
    "nx.draw_networkx_edge_labels(G, pos,\n",
    "                        edge_labels=labels)\n",
    "\n",
    "#hide axis\n",
    "fig.gca().axes.get_xaxis().set_ticks([])\n",
    "fig.gca().axes.get_yaxis().set_ticks([])\n",
    "\n",
    "pylab.show()"
   ]
  },
  {
   "cell_type": "markdown",
   "metadata": {},
   "source": [
    "#### We introduce a gamma perturbation for only part of the edges"
   ]
  },
  {
   "cell_type": "code",
   "execution_count": null,
   "metadata": {
    "collapsed": false
   },
   "outputs": [],
   "source": [
    "gamma = 5\n",
    "# random boolean mask for which values will be changed\n",
    "mask = np.random.randint(0,2,size=W.shape).astype(np.bool)\n",
    "\n",
    "# random matrix the same shape of the data\n",
    "r = gamma * W\n",
    "\n",
    "# use your mask to replace values in your input array\n",
    "W_gamma2 = W.copy()\n",
    "W_gamma2[mask] = r[mask]\n",
    "D = solve_multicut(W_gamma2,T)\n",
    "print(D)\n",
    "assignement_D = assignment_solution_lp(D, T, threshold=0.00001)\n",
    "print(assignement_D)"
   ]
  },
  {
   "cell_type": "markdown",
   "metadata": {},
   "source": [
    "## Simulated data\n",
    "Simulating a bipartite graph with viewers giving grades (between -2.5 and 2.5) to movies."
   ]
  },
  {
   "cell_type": "code",
   "execution_count": null,
   "metadata": {
    "collapsed": false
   },
   "outputs": [],
   "source": [
    "G=nx.Graph()\n",
    "\n",
    "G.add_edge(1,5,weight=1)\n",
    "G.add_edge(1,6,weight=1)\n",
    "G.add_edge(2,5,weight=1)\n",
    "G.add_edge(2,6,weight=1)\n",
    "G.add_edge(2,7,weight=-1)\n",
    "G.add_edge(2,8,weight=-1)\n",
    "G.add_edge(3,7,weight=1)\n",
    "G.add_edge(3,8,weight=1)\n",
    "G.add_edge(3,10,weight=2.5)\n",
    "G.add_edge(3,9,weight=0.5)\n",
    "G.add_edge(4,7,weight=-2)\n",
    "G.add_edge(4,9,weight=2.5)\n",
    "G.add_edge(4,10,weight=0.5)\n",
    "W = nx.to_numpy_matrix(G)\n",
    "T = [5,7,9]\n",
    "D = solve_multicut(W,T)\n",
    "print(np.reshape(D, W.shape))\n",
    "assignement_D = assignment_solution_lp(D, T, threshold=0.00001)\n",
    "print(assignement_D)"
   ]
  },
  {
   "cell_type": "markdown",
   "metadata": {},
   "source": [
    "Seeing that the graph is not 4-stable, we try to distort it (it still has a meaning when considering movie ratings)"
   ]
  },
  {
   "cell_type": "code",
   "execution_count": null,
   "metadata": {
    "collapsed": false
   },
   "outputs": [],
   "source": [
    "W_sign = np.sign(W)\n",
    "W_abs = np.absolute(W)\n",
    "W_exp_abs = np.exp(W_abs)\n",
    "W_distorted = W_sign * W_exp_abs\n",
    "D = solve_multicut(W_distorted,T)\n",
    "print(np.reshape(D, W_distorted.shape))\n",
    "assignement_D = assignment_solution_lp(D, T, threshold=0.00001)\n",
    "print(assignement_D)"
   ]
  },
  {
   "cell_type": "markdown",
   "metadata": {},
   "source": [
    "#### We introduce a gamma perturbation for only part of the edges"
   ]
  },
  {
   "cell_type": "code",
   "execution_count": null,
   "metadata": {
    "collapsed": true
   },
   "outputs": [],
   "source": [
    "gamma = 2\n",
    "# random boolean mask for which values will be changed\n",
    "mask = np.random.randint(0,2,size=W.shape).astype(np.bool)\n",
    "\n",
    "# random matrix the same shape of the data\n",
    "r = gamma * W\n",
    "\n",
    "# use your mask to replace values in your input array\n",
    "W_gamma2 = W.copy()\n",
    "W_gamma2[mask] = r[mask]\n",
    "L = build_laplacian(W_gamma2)\n",
    "D = solve_multicut(L,T)\n",
    "print(D)\n",
    "assignement_D = assignment_solution_lp(D, T, threshold=0.00001)\n",
    "print(assignement_D)"
   ]
  },
  {
   "cell_type": "markdown",
   "metadata": {},
   "source": [
    "## Real data from themoviedb.org\n",
    "Extracting  a sub graph of the entire database"
   ]
  },
  {
   "cell_type": "code",
   "execution_count": null,
   "metadata": {
    "collapsed": false
   },
   "outputs": [],
   "source": [
    "# building the summary dictionary\n",
    "summary_dictionary = build_user_to_movies('movielens.tsv')\n",
    "# unpacking of the dictionary\n",
    "users_to_movies = summary_dictionary['users_to_movies']\n",
    "n_users = summary_dictionary['n_users']\n",
    "k_users = 6\n",
    "n_movies = summary_dictionary['n_movies']\n",
    "k_movies = 8\n",
    "# building the rating matrix\n",
    "a = build_a(n_users, k_users, n_movies, k_movies, users_to_movies)\n",
    "# building the adjacency matrix\n",
    "W = build_graph(k_users, k_movies, a)\n",
    "print(W)"
   ]
  },
  {
   "cell_type": "code",
   "execution_count": null,
   "metadata": {
    "collapsed": true
   },
   "outputs": [],
   "source": [
    "# W = np.load('good_real_matrix.npy')"
   ]
  },
  {
   "cell_type": "code",
   "execution_count": null,
   "metadata": {
    "collapsed": false
   },
   "outputs": [],
   "source": [
    "T = [0,2, 4]\n",
    "D = solve_multicut(W,T)\n",
    "D_array=np.array(D)\n",
    "assignment_D = assignment_solution_lp(D_array, T, threshold=0.00001)"
   ]
  },
  {
   "cell_type": "code",
   "execution_count": null,
   "metadata": {
    "collapsed": false
   },
   "outputs": [],
   "source": [
    "#display the graph\n",
    "G = nx.from_numpy_matrix(W)\n",
    "fig=pylab.figure(figsize=(11,8))\n",
    "\n",
    "colors = ['b', 'g', 'r']\n",
    "cluster_colors = dict()\n",
    "for cluster_number, cluster in enumerate(assignment_D):\n",
    "    cluster_colors[cluster] = colors[cluster_number]\n",
    "\n",
    "\n",
    "node_colors=['w']*W.shape[0]\n",
    "for cluster in assignment_D:\n",
    "    nodes = assignment_D[cluster]\n",
    "    for node in nodes:\n",
    "        node_colors[node] = cluster_colors[cluster]\n",
    "\n",
    "pos=nx.spring_layout(G)\n",
    "#edges\n",
    "nx.draw_networkx(G,pos,\n",
    "                edgelist=[e for e in G.edges()],\n",
    "                node_color=node_colors)\n",
    "\n",
    "\n",
    "labels={e:'{0}'.format(W[e]) for e in G.edges()}\n",
    "#flow label\n",
    "nx.draw_networkx_edge_labels(G, pos,\n",
    "                        edge_labels=labels)\n",
    "\n",
    "#hide axis\n",
    "fig.gca().axes.get_xaxis().set_ticks([])\n",
    "fig.gca().axes.get_yaxis().set_ticks([])\n",
    "\n",
    "pylab.show()"
   ]
  },
  {
   "cell_type": "markdown",
   "metadata": {},
   "source": [
    "#### We introduce a gamma perturbation for only part of the edges"
   ]
  },
  {
   "cell_type": "code",
   "execution_count": null,
   "metadata": {
    "collapsed": true
   },
   "outputs": [],
   "source": [
    "gamma = 2\n",
    "# random boolean mask for which values will be changed\n",
    "mask = np.random.randint(0,2,size=W.shape).astype(np.bool)\n",
    "\n",
    "# random matrix the same shape of the data\n",
    "r = gamma * W\n",
    "\n",
    "# use your mask to replace values in your input array\n",
    "W_gamma2 = W.copy()\n",
    "W_gamma2[mask] = r[mask]\n",
    "L = build_laplacian(W_gamma2)\n",
    "D = solve_multicut(L,T)\n",
    "print(D)\n",
    "assignement_D = assignment_solution_lp(D, T, threshold=0.00001)\n",
    "print(assignement_D)"
   ]
  }
 ],
 "metadata": {
  "kernelspec": {
   "display_name": "Python 3",
   "language": "python",
   "name": "python3"
  },
  "language_info": {
   "codemirror_mode": {
    "name": "ipython",
    "version": 3
   },
   "file_extension": ".py",
   "mimetype": "text/x-python",
   "name": "python",
   "nbconvert_exporter": "python",
   "pygments_lexer": "ipython3",
   "version": "3.5.2"
  }
 },
 "nbformat": 4,
 "nbformat_minor": 2
}
