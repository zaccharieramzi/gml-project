{
 "cells": [
  {
   "cell_type": "markdown",
   "metadata": {},
   "source": [
    "## MAX CUT SDP relaxation\n",
    "### Graph based on viewers rating movies\n",
    "Here we solve the relaxed SDP to find the MAX cut in a graph. The goal is to find integral solution for $\\gamma$-stable graphs"
   ]
  },
  {
   "cell_type": "code",
   "execution_count": null,
   "metadata": {
    "collapsed": false
   },
   "outputs": [],
   "source": [
    "%matplotlib inline\n",
    "import networkx as nx\n",
    "import numpy as np\n",
    "import pylab\n",
    "\n",
    "from algo import build_laplacian, solve_sdp, assignment_solution_sdp\n",
    "from data_proc import build_a, build_graph, build_user_to_movies"
   ]
  },
  {
   "cell_type": "markdown",
   "metadata": {},
   "source": [
    "## Fake data to illustrate the integral solution\n",
    "Easy max cut solution. "
   ]
  },
  {
   "cell_type": "code",
   "execution_count": null,
   "metadata": {
    "collapsed": false
   },
   "outputs": [],
   "source": [
    "W = np.array([[0,4,0,8],[4,0,0,2],[0,0,0,7],[8,2,7,0]])\n",
    "L = build_laplacian(W)\n",
    "X = solve_sdp(L, triangle_inequalities=True)"
   ]
  },
  {
   "cell_type": "code",
   "execution_count": null,
   "metadata": {
    "collapsed": false
   },
   "outputs": [],
   "source": [
    "# assignment\n",
    "X_array=np.array(X)\n",
    "assignment_X = assignment_solution_sdp(X_array)"
   ]
  },
  {
   "cell_type": "code",
   "execution_count": null,
   "metadata": {
    "collapsed": false
   },
   "outputs": [],
   "source": [
    "#display the graph\n",
    "G = nx.from_numpy_matrix(W)\n",
    "fig=pylab.figure(figsize=(11,8))\n",
    "\n",
    "colors = ['g', 'r']\n",
    "\n",
    "node_colors=['w']*W.shape[0]\n",
    "for node, cluster in enumerate(assignment_X):\n",
    "    node_colors[node] = colors[int(cluster)]\n",
    "\n",
    "pos=nx.spring_layout(G)\n",
    "#edges\n",
    "nx.draw_networkx(G,pos,\n",
    "                edgelist=[e for e in G.edges()],\n",
    "                node_color=node_colors)\n",
    "\n",
    "\n",
    "labels={e:'{0}'.format(W[e]) for e in G.edges()}\n",
    "#flow label\n",
    "nx.draw_networkx_edge_labels(G, pos,\n",
    "                        edge_labels=labels)\n",
    "\n",
    "#hide axis\n",
    "fig.gca().axes.get_xaxis().set_ticks([])\n",
    "fig.gca().axes.get_yaxis().set_ticks([])\n",
    "\n",
    "pylab.show()"
   ]
  },
  {
   "cell_type": "markdown",
   "metadata": {},
   "source": [
    "#### We introduce a gamma perturbation for all edges"
   ]
  },
  {
   "cell_type": "code",
   "execution_count": null,
   "metadata": {
    "collapsed": false
   },
   "outputs": [],
   "source": [
    "gamma = 2\n",
    "W_gamma1 = gamma * W\n",
    "L = build_laplacian(W_gamma1)\n",
    "X = solve_sdp(L, triangle_inequalities=True)\n",
    "print(X)\n",
    "X_array=np.array(X)\n",
    "assignment_X = assignment_solution_sdp(X_array)\n",
    "print(assignment_X)"
   ]
  },
  {
   "cell_type": "markdown",
   "metadata": {},
   "source": [
    "#### We introduce a gamma perturbation for only part of the edges"
   ]
  },
  {
   "cell_type": "code",
   "execution_count": null,
   "metadata": {
    "collapsed": false
   },
   "outputs": [],
   "source": [
    "gamma = 2 # if gamma = 1000 it may not work depending of the mask\n",
    "# random boolean mask for which values will be changed\n",
    "mask = np.random.randint(0,2,size=W.shape).astype(np.bool)\n",
    "\n",
    "# random matrix the same shape of the data\n",
    "W = np.array([[0,4,0,8],[4,0,0,2],[0,0,0,7],[8,2,7,0]])\n",
    "r = gamma * W\n",
    "\n",
    "# use your mask to replace values in your input array\n",
    "W_gamma2 = W\n",
    "W_gamma2[mask] = r[mask]\n",
    "L = build_laplacian(W)\n",
    "X = solve_sdp(L, triangle_inequalities=True)\n",
    "print(X)\n",
    "X_array=np.array(X)\n",
    "assignment_X = assignment_solution_sdp(X_array)\n",
    "print(assignment_X)"
   ]
  },
  {
   "cell_type": "markdown",
   "metadata": {},
   "source": [
    "## Simulated data\n",
    "Simulating a bipartite graph with viewers giving grades (between -2.5 and 2.5) to movies."
   ]
  },
  {
   "cell_type": "code",
   "execution_count": null,
   "metadata": {
    "collapsed": false
   },
   "outputs": [],
   "source": [
    "W = np.array([[0,0,0,-2,0,-0.5],[0,0,0,2,2.5,0],[0,0,0,0,-1,2.5],[-2,2,0,0,0,0],[0,2.5,-1,0,0,0],[-0.5,0,2.5,0,0,0]])\n",
    "L = build_laplacian(W)\n",
    "X = solve_sdp(L, triangle_inequalities=True)\n",
    "X_array=np.array(X)\n",
    "assignment_X = assignment_solution_sdp(X_array)"
   ]
  },
  {
   "cell_type": "code",
   "execution_count": null,
   "metadata": {
    "collapsed": false
   },
   "outputs": [],
   "source": [
    "#display the graph\n",
    "G = nx.from_numpy_matrix(W)\n",
    "fig=pylab.figure(figsize=(11,8))\n",
    "\n",
    "colors = ['g', 'r']\n",
    "\n",
    "node_colors=['w']*W.shape[0]\n",
    "for node, cluster in enumerate(assignment_X):\n",
    "    node_colors[node] = colors[int(cluster)]\n",
    "\n",
    "pos=nx.spring_layout(G)\n",
    "#edges\n",
    "nx.draw_networkx(G,pos,\n",
    "                edgelist=[e for e in G.edges()],\n",
    "                node_color=node_colors)\n",
    "\n",
    "\n",
    "labels={e:'{0}'.format(W[e]) for e in G.edges()}\n",
    "#flow label\n",
    "nx.draw_networkx_edge_labels(G, pos,\n",
    "                        edge_labels=labels)\n",
    "\n",
    "#hide axis\n",
    "fig.gca().axes.get_xaxis().set_ticks([])\n",
    "fig.gca().axes.get_yaxis().set_ticks([])\n",
    "\n",
    "pylab.show()"
   ]
  },
  {
   "cell_type": "markdown",
   "metadata": {},
   "source": [
    "#### We introduce a gamma perturbation for all edges"
   ]
  },
  {
   "cell_type": "code",
   "execution_count": null,
   "metadata": {
    "collapsed": false
   },
   "outputs": [],
   "source": [
    "gamma = 2\n",
    "W_gamma1 = gamma * W\n",
    "L = build_laplacian(W_gamma1)\n",
    "X = solve_sdp(L, triangle_inequalities=True)\n",
    "print(X)\n",
    "X_array=np.array(X)\n",
    "assignement_X = assignment_solution(X_array)\n",
    "print(assignement_X)"
   ]
  },
  {
   "cell_type": "markdown",
   "metadata": {},
   "source": [
    "#### We introduce a gamma perturbation for only one edge"
   ]
  },
  {
   "cell_type": "code",
   "execution_count": null,
   "metadata": {
    "collapsed": false
   },
   "outputs": [],
   "source": [
    "gamma = 10 # if gamma = 1000 it may not work anymore\n",
    "# random boolean mask for which values will be changed\n",
    "W_gamma2 = np.array([[0,0,0,-2,0,-0.5*gamma],[0,0,0,2,2.5,0],[0,0,0,0,-1,2.5],[-2,2,0,0,0,0],[0,2.5,-1,0,0,0],[-0.5*gamma,0,2.5,0,0,0]])"
   ]
  },
  {
   "cell_type": "code",
   "execution_count": null,
   "metadata": {
    "collapsed": false
   },
   "outputs": [],
   "source": [
    "L = build_laplacian(W_gamma2)\n",
    "X = solve_sdp(L, triangle_inequalities=True)\n",
    "print(X)\n",
    "X_array=np.array(X)\n",
    "assignement_X = assignment_solution(X_array)\n",
    "print(assignement_X)"
   ]
  },
  {
   "cell_type": "markdown",
   "metadata": {},
   "source": [
    "## Real data from themoviedb.org\n",
    "Extracting  a sub graph of the entire database"
   ]
  },
  {
   "cell_type": "code",
   "execution_count": null,
   "metadata": {
    "collapsed": false
   },
   "outputs": [],
   "source": [
    "# building the summary dictionary\n",
    "summary_dictionary = build_user_to_movies('movielens.tsv')\n",
    "# unpacking of the dictionary\n",
    "users_to_movies = summary_dictionary['users_to_movies']\n",
    "n_users = summary_dictionary['n_users']\n",
    "k_users = 4\n",
    "n_movies = summary_dictionary['n_movies']\n",
    "k_movies = 4\n",
    "# building the rating matrix\n",
    "a = build_a(n_users, k_users, n_movies, k_movies, users_to_movies)\n",
    "# building the adjacency matrix\n",
    "W = build_graph(k_users, k_movies, a)\n",
    "print(W)"
   ]
  },
  {
   "cell_type": "code",
   "execution_count": null,
   "metadata": {
    "collapsed": false
   },
   "outputs": [],
   "source": [
    "# the laplacian of the graph\n",
    "L = build_laplacian(W)\n",
    "X = solve_sdp(L, triangle_inequalities=True)\n",
    "X_array=np.array(X)\n",
    "assignment_X = assignment_solution_sdp(X_array)"
   ]
  },
  {
   "cell_type": "code",
   "execution_count": null,
   "metadata": {
    "collapsed": false
   },
   "outputs": [],
   "source": [
    "#display the graph\n",
    "G = nx.from_numpy_matrix(W)\n",
    "fig=pylab.figure(figsize=(11,8))\n",
    "\n",
    "colors = ['g', 'r']\n",
    "\n",
    "node_colors=['w']*W.shape[0]\n",
    "for node, cluster in enumerate(assignment_X):\n",
    "    node_colors[node] = colors[int(cluster)]\n",
    "\n",
    "pos=nx.spring_layout(G)\n",
    "#edges\n",
    "nx.draw_networkx(G,pos,\n",
    "                edgelist=[e for e in G.edges()],\n",
    "                node_color=node_colors)\n",
    "\n",
    "\n",
    "labels={e:'{0}'.format(W[e]) for e in G.edges()}\n",
    "#flow label\n",
    "nx.draw_networkx_edge_labels(G, pos,\n",
    "                        edge_labels=labels)\n",
    "\n",
    "#hide axis\n",
    "fig.gca().axes.get_xaxis().set_ticks([])\n",
    "fig.gca().axes.get_yaxis().set_ticks([])\n",
    "\n",
    "pylab.show()"
   ]
  },
  {
   "cell_type": "markdown",
   "metadata": {
    "collapsed": false
   },
   "source": [
    "#### We introduce a gamma perturbation for only part of the edges"
   ]
  },
  {
   "cell_type": "code",
   "execution_count": null,
   "metadata": {
    "collapsed": true
   },
   "outputs": [],
   "source": [
    "gamma = 2 \n",
    "# random boolean mask for which values will be changed\n",
    "mask = np.random.randint(0,2,size=W.shape).astype(np.bool)\n",
    "\n",
    "# random matrix the same shape of the data\n",
    "r = gamma * W\n",
    "\n",
    "# use your mask to replace values in your input array\n",
    "W_gamma2 = W.copy()\n",
    "W_gamma2[mask] = r[mask]\n",
    "L = build_laplacian(W_gamma2)\n",
    "X = solve_sdp(L, triangle_inequalities=True)\n",
    "print(X)\n",
    "X_array=np.array(X)\n",
    "assignement_X = assignment_solution(X_array)\n",
    "print(assignement_X)"
   ]
  }
 ],
 "metadata": {
  "kernelspec": {
   "display_name": "Python 3",
   "language": "python",
   "name": "python3"
  },
  "language_info": {
   "codemirror_mode": {
    "name": "ipython",
    "version": 3
   },
   "file_extension": ".py",
   "mimetype": "text/x-python",
   "name": "python",
   "nbconvert_exporter": "python",
   "pygments_lexer": "ipython3",
   "version": "3.5.2"
  }
 },
 "nbformat": 4,
 "nbformat_minor": 2
}
