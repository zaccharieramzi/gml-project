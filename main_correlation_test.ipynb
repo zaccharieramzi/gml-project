{
 "cells": [
  {
   "cell_type": "markdown",
   "metadata": {},
   "source": [
    "## MAX CUT SDP relaxation\n",
    "### Graph based on viewers rating movies\n",
    "Here we solve the relaxed SDP to find the MAX cut in a graph. The goal is to find integral solution for $\\gamma$-stable graphs"
   ]
  },
  {
   "cell_type": "code",
   "execution_count": 6,
   "metadata": {
    "collapsed": true
   },
   "outputs": [],
   "source": [
    "from algo import build_laplacian, solve_sdp, assignment_solution\n",
    "from data_proc import build_a, build_graph, build_user_to_movies\n",
    "import numpy as np"
   ]
  },
  {
   "cell_type": "code",
   "execution_count": 20,
   "metadata": {
    "collapsed": false
   },
   "outputs": [
    {
     "name": "stdout",
     "output_type": "stream",
     "text": [
      "{'cvxopt_sol': {'x': <10x1 matrix, tc='d'>, 'gap': 1.093014295286934e-06, 'primal objective': -75.9999997135162, 'y': <4x1 matrix, tc='d'>, 'dual objective': -76.00000052607636, 's': <272x1 matrix, tc='d'>, 'dual slack': 1.3267550560747401e-09, 'dual infeasibility': 2.2773580765289174e-10, 'residual as dual infeasibility certificate': None, 'iterations': 6, 'status': 'optimal', 'relative gap': 1.4381767097461541e-08, 'z': <272x1 matrix, tc='d'>, 'primal slack': 2.403487552331305e-09, 'primal infeasibility': 2.4221916813675842e-09, 'residual as primal infeasibility certificate': None}, 'status': 'optimal', 'time': 0.007882833480834961, 'obj': 76.00000011979628}\n",
      "[ 1.00e+00 -1.00e+00  1.00e+00 -1.00e+00]\n",
      "[-1.00e+00  1.00e+00 -1.00e+00  1.00e+00]\n",
      "[ 1.00e+00 -1.00e+00  1.00e+00 -1.00e+00]\n",
      "[-1.00e+00  1.00e+00 -1.00e+00  1.00e+00]\n",
      "\n"
     ]
    }
   ],
   "source": [
    "# fake data to illustrate the integral solution\n",
    "W = np.array([[0,4,0,8],[4,0,0,2],[0,0,0,7],[8,2,7,0]])\n",
    "L = build_laplacian(W)\n",
    "X = solve_sdp(L, triangle_inequalities=True)\n",
    "print(X)"
   ]
  },
  {
   "cell_type": "code",
   "execution_count": 8,
   "metadata": {
    "collapsed": false
   },
   "outputs": [
    {
     "name": "stdout",
     "output_type": "stream",
     "text": [
      "[ True False  True False]\n"
     ]
    }
   ],
   "source": [
    "X_array=np.array(X)\n",
    "assignement_X = assignment_solution(X_array)\n",
    "print(assignement_X)"
   ]
  },
  {
   "cell_type": "markdown",
   "metadata": {},
   "source": [
    "#### we introduce a gamma perturbation for all edges"
   ]
  },
  {
   "cell_type": "code",
   "execution_count": 9,
   "metadata": {
    "collapsed": false
   },
   "outputs": [
    {
     "name": "stdout",
     "output_type": "stream",
     "text": [
      "{'cvxopt_sol': {'x': <10x1 matrix, tc='d'>, 'gap': 5.44715118644255e-07, 'primal objective': -151.99999986060945, 'y': <4x1 matrix, tc='d'>, 'dual objective': -152.00000025008293, 's': <272x1 matrix, tc='d'>, 'dual slack': 4.2609460784760805e-10, 'dual infeasibility': 5.4612974266920744e-11, 'residual as dual infeasibility certificate': None, 'iterations': 6, 'status': 'optimal', 'relative gap': 3.5836520996301464e-09, 'z': <272x1 matrix, tc='d'>, 'primal slack': 9.250474822637294e-10, 'primal infeasibility': 9.322462937057964e-10, 'residual as primal infeasibility certificate': None}, 'status': 'optimal', 'time': 0.007786989212036133, 'obj': 152.0000000553462}\n",
      "[ 1.00e+00 -1.00e+00  1.00e+00 -1.00e+00]\n",
      "[-1.00e+00  1.00e+00 -1.00e+00  1.00e+00]\n",
      "[ 1.00e+00 -1.00e+00  1.00e+00 -1.00e+00]\n",
      "[-1.00e+00  1.00e+00 -1.00e+00  1.00e+00]\n",
      "\n",
      "[ True False  True False]\n"
     ]
    }
   ],
   "source": [
    "gamma = 2\n",
    "W_gamma1 = gamma * W\n",
    "L = build_laplacian(W_gamma1)\n",
    "X = solve_sdp(L, triangle_inequalities=True)\n",
    "print(X)\n",
    "X_array=np.array(X)\n",
    "assignement_X = assignment_solution(X_array)\n",
    "print(assignement_X)"
   ]
  },
  {
   "cell_type": "markdown",
   "metadata": {},
   "source": [
    "#### we introduce a gamma perturbation for only part of the edges"
   ]
  },
  {
   "cell_type": "code",
   "execution_count": 22,
   "metadata": {
    "collapsed": false
   },
   "outputs": [
    {
     "name": "stdout",
     "output_type": "stream",
     "text": [
      "[[False False  True False]\n",
      " [False False False False]\n",
      " [ True  True  True  True]\n",
      " [False False  True False]]\n",
      "{'cvxopt_sol': {'x': <10x1 matrix, tc='d'>, 'gap': 1.1966165222166646e-06, 'primal objective': -103.99999968904955, 'y': <4x1 matrix, tc='d'>, 'dual objective': -104.00000056804713, 's': <272x1 matrix, tc='d'>, 'dual slack': 1.1863353895723691e-09, 'dual infeasibility': 1.774089844632471e-10, 'residual as dual infeasibility certificate': None, 'iterations': 6, 'status': 'optimal', 'relative gap': 1.1505928132638829e-08, 'z': <272x1 matrix, tc='d'>, 'primal slack': 2.1949577341785935e-09, 'primal infeasibility': 2.2120389301344815e-09, 'residual as primal infeasibility certificate': None}, 'status': 'optimal', 'time': 0.008212089538574219, 'obj': 104.00000012854834}\n",
      "[ 1.00e+00 -1.00e+00  1.00e+00 -1.00e+00]\n",
      "[-1.00e+00  1.00e+00 -1.00e+00  1.00e+00]\n",
      "[ 1.00e+00 -1.00e+00  1.00e+00 -1.00e+00]\n",
      "[-1.00e+00  1.00e+00 -1.00e+00  1.00e+00]\n",
      "\n",
      "[ True False  True False]\n"
     ]
    }
   ],
   "source": [
    "gamma = 2 # if gamma = 1000 it doesn't work anymore\n",
    "# random boolean mask for which values will be changed\n",
    "mask = np.random.randint(0,2,size=W.shape).astype(np.bool)\n",
    "\n",
    "# random matrix the same shape of the data\n",
    "W = np.array([[0,4,0,8],[4,0,0,2],[0,0,0,7],[8,2,7,0]])\n",
    "r = gamma * W\n",
    "\n",
    "# use your mask to replace values in your input array\n",
    "W_gamma2 = W\n",
    "W_gamma2[mask] = r[mask]\n",
    "print(mask)\n",
    "L = build_laplacian(W)\n",
    "X = solve_sdp(L, triangle_inequalities=True)\n",
    "print(X)\n",
    "X_array=np.array(X)\n",
    "assignement_X = assignment_solution(X_array)\n",
    "print(assignement_X)"
   ]
  },
  {
   "cell_type": "code",
   "execution_count": 23,
   "metadata": {
    "collapsed": false
   },
   "outputs": [
    {
     "name": "stdout",
     "output_type": "stream",
     "text": [
      "{'cvxopt_sol': {'x': <21x1 matrix, tc='d'>, 'gap': 3.034008769089791e-07, 'primal objective': -27.999999892570838, 'y': <6x1 matrix, tc='d'>, 'dual objective': -28.000000147460813, 's': <900x1 matrix, tc='d'>, 'dual slack': 9.769756075005612e-11, 'dual infeasibility': 8.199887731906276e-11, 'residual as dual infeasibility certificate': None, 'iterations': 7, 'status': 'optimal', 'relative gap': 1.083574564546622e-08, 'z': <900x1 matrix, tc='d'>, 'primal slack': 2.767074420618146e-10, 'primal infeasibility': 2.7766644025418645e-10, 'residual as primal infeasibility certificate': None}, 'status': 'optimal', 'time': 0.020422935485839844, 'obj': 28.000000020015825}\n",
      "[ 1.00e+00 -1.00e+00  1.00e+00  1.00e+00  1.00e+00 -1.00e+00]\n",
      "[-1.00e+00  1.00e+00 -1.00e+00 -1.00e+00 -1.00e+00  1.00e+00]\n",
      "[ 1.00e+00 -1.00e+00  1.00e+00  1.00e+00  1.00e+00 -1.00e+00]\n",
      "[ 1.00e+00 -1.00e+00  1.00e+00  1.00e+00  1.00e+00 -1.00e+00]\n",
      "[ 1.00e+00 -1.00e+00  1.00e+00  1.00e+00  1.00e+00 -1.00e+00]\n",
      "[-1.00e+00  1.00e+00 -1.00e+00 -1.00e+00 -1.00e+00  1.00e+00]\n",
      "\n",
      "[ True False  True  True  True False]\n"
     ]
    }
   ],
   "source": [
    "# Simulated data: 3 movies rated by 3 users\n",
    "W = np.array([[0,0,0,-2,0,0],[0,0,0,2,2.5,0],[0,0,0,0,-1,2.5],[-2,2,0,0,0,0],[0,2.5,-1,0,0,0],[0,0,2.5,0,0,0]])\n",
    "L = build_laplacian(W)\n",
    "X = solve_sdp(L, triangle_inequalities=True)\n",
    "print(X)\n",
    "X_array=np.array(X)\n",
    "assignement_X = assignment_solution(X_array)\n",
    "print(assignement_X)"
   ]
  },
  {
   "cell_type": "code",
   "execution_count": null,
   "metadata": {
    "collapsed": true
   },
   "outputs": [],
   "source": []
  },
  {
   "cell_type": "code",
   "execution_count": 17,
   "metadata": {
    "collapsed": false
   },
   "outputs": [
    {
     "name": "stdout",
     "output_type": "stream",
     "text": [
      "{'obj': 28.000000020015825, 'status': 'optimal', 'cvxopt_sol': {'dual infeasibility': 8.199887731906276e-11, 'gap': 3.034008769089791e-07, 'z': <900x1 matrix, tc='d'>, 'status': 'optimal', 'residual as dual infeasibility certificate': None, 's': <900x1 matrix, tc='d'>, 'x': <21x1 matrix, tc='d'>, 'residual as primal infeasibility certificate': None, 'iterations': 7, 'primal slack': 2.767074420618146e-10, 'primal objective': -27.999999892570838, 'primal infeasibility': 2.7766644025418645e-10, 'relative gap': 1.083574564546622e-08, 'y': <6x1 matrix, tc='d'>, 'dual slack': 9.769756075005612e-11, 'dual objective': -28.000000147460813}, 'time': 0.02052593231201172}\n",
      "[ 1.00e+00 -1.00e+00  1.00e+00  1.00e+00  1.00e+00 -1.00e+00]\n",
      "[-1.00e+00  1.00e+00 -1.00e+00 -1.00e+00 -1.00e+00  1.00e+00]\n",
      "[ 1.00e+00 -1.00e+00  1.00e+00  1.00e+00  1.00e+00 -1.00e+00]\n",
      "[ 1.00e+00 -1.00e+00  1.00e+00  1.00e+00  1.00e+00 -1.00e+00]\n",
      "[ 1.00e+00 -1.00e+00  1.00e+00  1.00e+00  1.00e+00 -1.00e+00]\n",
      "[-1.00e+00  1.00e+00 -1.00e+00 -1.00e+00 -1.00e+00  1.00e+00]\n",
      "\n"
     ]
    }
   ],
   "source": []
  },
  {
   "cell_type": "code",
   "execution_count": 10,
   "metadata": {
    "collapsed": false
   },
   "outputs": [
    {
     "data": {
      "text/plain": [
       "array([[ 9, -7, -1, -1],\n",
       "       [-7, 12,  0, -5],\n",
       "       [-1,  0,  1,  0],\n",
       "       [-1, -5,  0,  6]])"
      ]
     },
     "execution_count": 10,
     "metadata": {},
     "output_type": "execute_result"
    }
   ],
   "source": []
  },
  {
   "cell_type": "code",
   "execution_count": null,
   "metadata": {
    "collapsed": true
   },
   "outputs": [],
   "source": []
  }
 ],
 "metadata": {
  "kernelspec": {
   "display_name": "Python 3",
   "language": "python",
   "name": "python3"
  },
  "language_info": {
   "codemirror_mode": {
    "name": "ipython",
    "version": 3
   },
   "file_extension": ".py",
   "mimetype": "text/x-python",
   "name": "python",
   "nbconvert_exporter": "python",
   "pygments_lexer": "ipython3",
   "version": "3.5.2"
  }
 },
 "nbformat": 4,
 "nbformat_minor": 2
}
