{
 "cells": [
  {
   "cell_type": "markdown",
   "metadata": {},
   "source": [
    "## MAX CUT SDP relaxation\n",
    "### Graph based on viewers rating movies\n",
    "Here we solve the relaxed SDP to find the MAX cut in a graph. The goal is to find integral solution for $\\gamma$-stable graphs"
   ]
  },
  {
   "cell_type": "code",
   "execution_count": 11,
   "metadata": {
    "collapsed": true
   },
   "outputs": [],
   "source": [
    "from algo import build_laplacian, solve_sdp, assignment_solution\n",
    "from data_proc import build_a, build_graph, build_user_to_movies\n",
    "import numpy as np"
   ]
  },
  {
   "cell_type": "code",
   "execution_count": 12,
   "metadata": {
    "collapsed": false
   },
   "outputs": [
    {
     "name": "stdout",
     "output_type": "stream",
     "text": [
      "{'obj': 76.00000011979628, 'time': 0.0076138973236083984, 'cvxopt_sol': {'gap': 1.0930142936199193e-06, 'primal infeasibility': 2.422191871671932e-09, 'relative gap': 1.4381767075527133e-08, 'residual as primal infeasibility certificate': None, 'dual slack': 1.3267550541781866e-09, 's': <272x1 matrix, tc='d'>, 'dual infeasibility': 2.277358076017723e-10, 'y': <4x1 matrix, tc='d'>, 'dual objective': -76.00000052607633, 'residual as dual infeasibility certificate': None, 'iterations': 6, 'primal slack': 2.4034875355250986e-09, 'primal objective': -75.99999971351623, 'z': <272x1 matrix, tc='d'>, 'x': <10x1 matrix, tc='d'>, 'status': 'optimal'}, 'status': 'optimal'}\n",
      "[ 1.00e+00 -1.00e+00  1.00e+00 -1.00e+00]\n",
      "[-1.00e+00  1.00e+00 -1.00e+00  1.00e+00]\n",
      "[ 1.00e+00 -1.00e+00  1.00e+00 -1.00e+00]\n",
      "[-1.00e+00  1.00e+00 -1.00e+00  1.00e+00]\n",
      "\n"
     ]
    }
   ],
   "source": [
    "# fake data to illustrate the integral solution\n",
    "W = np.array([[0,4,0,8],[4,0,0,2],[0,0,0,7],[8,2,7,0]])\n",
    "L = build_laplacian(W)\n",
    "X = solve_sdp(L, triangle_inequalities=True)\n",
    "print(X)"
   ]
  },
  {
   "cell_type": "markdown",
   "metadata": {},
   "source": [
    "#### we introduce a gamma perturbation for all edges"
   ]
  },
  {
   "cell_type": "code",
   "execution_count": 13,
   "metadata": {
    "collapsed": false
   },
   "outputs": [
    {
     "name": "stdout",
     "output_type": "stream",
     "text": [
      "{'obj': 152.00000005534625, 'time': 0.011139869689941406, 'cvxopt_sol': {'gap': 5.447151342554877e-07, 'primal infeasibility': 9.322465633145176e-10, 'relative gap': 3.583652202335624e-09, 'residual as primal infeasibility certificate': None, 'dual slack': 4.2609461651751397e-10, 's': <272x1 matrix, tc='d'>, 'dual infeasibility': 5.4612646865435217e-11, 'y': <4x1 matrix, tc='d'>, 'dual objective': -152.00000025008302, 'residual as dual infeasibility certificate': None, 'iterations': 6, 'primal slack': 9.25047544395745e-10, 'primal objective': -151.99999986060948, 'z': <272x1 matrix, tc='d'>, 'x': <10x1 matrix, tc='d'>, 'status': 'optimal'}, 'status': 'optimal'}\n",
      "[ 1.00e+00 -1.00e+00  1.00e+00 -1.00e+00]\n",
      "[-1.00e+00  1.00e+00 -1.00e+00  1.00e+00]\n",
      "[ 1.00e+00 -1.00e+00  1.00e+00 -1.00e+00]\n",
      "[-1.00e+00  1.00e+00 -1.00e+00  1.00e+00]\n",
      "\n"
     ]
    }
   ],
   "source": [
    "gamma = 2\n",
    "W_gamma1 = gamma * W\n",
    "L = build_laplacian(W_gamma1)\n",
    "X = solve_sdp(L, triangle_inequalities=True)\n",
    "print(X)"
   ]
  },
  {
   "cell_type": "markdown",
   "metadata": {},
   "source": [
    "#### we introduce a gamma perturbation for only part of the edges"
   ]
  },
  {
   "cell_type": "code",
   "execution_count": 14,
   "metadata": {
    "collapsed": false
   },
   "outputs": [
    {
     "name": "stdout",
     "output_type": "stream",
     "text": [
      "{'obj': 76.0000001197963, 'time': 0.009101152420043945, 'cvxopt_sol': {'gap': 1.0930143004565403e-06, 'primal infeasibility': 2.4221920817818716e-09, 'relative gap': 1.4381767165482674e-08, 'residual as primal infeasibility certificate': None, 'dual slack': 1.3267550514153147e-09, 's': <272x1 matrix, tc='d'>, 'dual infeasibility': 2.277359545214055e-10, 'y': <4x1 matrix, tc='d'>, 'dual objective': -76.00000052607636, 'residual as dual infeasibility certificate': None, 'iterations': 6, 'primal slack': 2.4034876543278714e-09, 'primal objective': -75.99999971351623, 'z': <272x1 matrix, tc='d'>, 'x': <10x1 matrix, tc='d'>, 'status': 'optimal'}, 'status': 'optimal'}\n",
      "[ 1.00e+00 -1.00e+00  1.00e+00 -1.00e+00]\n",
      "[-1.00e+00  1.00e+00 -1.00e+00  1.00e+00]\n",
      "[ 1.00e+00 -1.00e+00  1.00e+00 -1.00e+00]\n",
      "[-1.00e+00  1.00e+00 -1.00e+00  1.00e+00]\n",
      "\n"
     ]
    }
   ],
   "source": [
    "gamma = 2\n",
    "# random boolean mask for which values will be changed\n",
    "mask = np.random.randint(0,2,size=W.shape).astype(np.bool)\n",
    "\n",
    "# random matrix the same shape of your data\n",
    "r = gamma * W\n",
    "\n",
    "# use your mask to replace values in your input array\n",
    "W_gamma2 = W\n",
    "W_gamma2[mask] = r[mask]\n",
    "L = build_laplacian(W)\n",
    "X = solve_sdp(L, triangle_inequalities=True)\n",
    "print(X)"
   ]
  },
  {
   "cell_type": "code",
   "execution_count": null,
   "metadata": {
    "collapsed": false
   },
   "outputs": [],
   "source": [
    "# Simulated data: 3 movies rated by 3 users\n",
    "W = np.array([[0,0,0,-2,0,0],[0,0,0,2,2.5,0],[0,0,0,0,-1,2.5],[-2,2,0,0,0,0],[0,2.5,-1,0,0,0],[0,0,2.5,0,0,0]])\n",
    "L = build_laplacian(W)\n",
    "X = solve_sdp(L, triangle_inequalities=True)\n",
    "print(X)"
   ]
  },
  {
   "cell_type": "code",
   "execution_count": null,
   "metadata": {
    "collapsed": true
   },
   "outputs": [],
   "source": [
    "# building the summary dictionary\n",
    "summary_dictionary = build_user_to_movies('movielens.tsv')\n",
    "# unpacking of the dictionary\n",
    "users_to_movies = summary_dictionary['users_to_movies']\n",
    "n_users = summary_dictionary['n_users']\n",
    "n_movies = summary_dictionary['n_movies']\n",
    "# reduce the graph size\n",
    "k_users = 10\n",
    "k_movies = 10"
   ]
  },
  {
   "cell_type": "code",
   "execution_count": 17,
   "metadata": {
    "collapsed": false
   },
   "outputs": [
    {
     "name": "stdout",
     "output_type": "stream",
     "text": [
      "{'obj': 28.000000020015825, 'status': 'optimal', 'cvxopt_sol': {'dual infeasibility': 8.199887731906276e-11, 'gap': 3.034008769089791e-07, 'z': <900x1 matrix, tc='d'>, 'status': 'optimal', 'residual as dual infeasibility certificate': None, 's': <900x1 matrix, tc='d'>, 'x': <21x1 matrix, tc='d'>, 'residual as primal infeasibility certificate': None, 'iterations': 7, 'primal slack': 2.767074420618146e-10, 'primal objective': -27.999999892570838, 'primal infeasibility': 2.7766644025418645e-10, 'relative gap': 1.083574564546622e-08, 'y': <6x1 matrix, tc='d'>, 'dual slack': 9.769756075005612e-11, 'dual objective': -28.000000147460813}, 'time': 0.02052593231201172}\n",
      "[ 1.00e+00 -1.00e+00  1.00e+00  1.00e+00  1.00e+00 -1.00e+00]\n",
      "[-1.00e+00  1.00e+00 -1.00e+00 -1.00e+00 -1.00e+00  1.00e+00]\n",
      "[ 1.00e+00 -1.00e+00  1.00e+00  1.00e+00  1.00e+00 -1.00e+00]\n",
      "[ 1.00e+00 -1.00e+00  1.00e+00  1.00e+00  1.00e+00 -1.00e+00]\n",
      "[ 1.00e+00 -1.00e+00  1.00e+00  1.00e+00  1.00e+00 -1.00e+00]\n",
      "[-1.00e+00  1.00e+00 -1.00e+00 -1.00e+00 -1.00e+00  1.00e+00]\n",
      "\n"
     ]
    }
   ],
   "source": [
    "# building the rating matrix\n",
    "a = build_a(n_users, k_users, n_movies, k_movies, users_to_movies)\n",
    "# building the adjacency matrix\n",
    "W = build_graph(k_users, k_movies, a)\n",
    "# the laplacian of the graph\n",
    "W = np.array([[0,0,0,-2,0,0],[0,0,0,2,2.5,0],[0,0,0,0,-1,2.5],[-2,2,0,0,0,0],[0,2.5,-1,0,0,0],[0,0,2.5,0,0,0]])\n",
    "L = build_laplacian(W)\n",
    "X = solve_sdp(L, triangle_inequalities=True)\n",
    "print(X)"
   ]
  },
  {
   "cell_type": "code",
   "execution_count": 10,
   "metadata": {
    "collapsed": false
   },
   "outputs": [
    {
     "data": {
      "text/plain": [
       "array([[ 9, -7, -1, -1],\n",
       "       [-7, 12,  0, -5],\n",
       "       [-1,  0,  1,  0],\n",
       "       [-1, -5,  0,  6]])"
      ]
     },
     "execution_count": 10,
     "metadata": {},
     "output_type": "execute_result"
    }
   ],
   "source": [
    "L"
   ]
  },
  {
   "cell_type": "code",
   "execution_count": null,
   "metadata": {
    "collapsed": true
   },
   "outputs": [],
   "source": []
  }
 ],
 "metadata": {
  "kernelspec": {
   "display_name": "Python 3",
   "language": "python",
   "name": "python3"
  },
  "language_info": {
   "codemirror_mode": {
    "name": "ipython",
    "version": 3
   },
   "file_extension": ".py",
   "mimetype": "text/x-python",
   "name": "python",
   "nbconvert_exporter": "python",
   "pygments_lexer": "ipython3",
   "version": "3.5.2"
  }
 },
 "nbformat": 4,
 "nbformat_minor": 2
}
