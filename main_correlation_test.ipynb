{
 "cells": [
  {
   "cell_type": "markdown",
   "metadata": {},
   "source": [
    "## MAX CUT SDP relaxation\n",
    "### Graph based on viewers rating movies\n",
    "Here we solve the relaxed SDP to find the MAX cut in a graph. The goal is to find integral solution for $\\gamma$-stable graphs"
   ]
  },
  {
   "cell_type": "code",
   "execution_count": 1,
   "metadata": {
    "collapsed": true
   },
   "outputs": [],
   "source": [
    "from algo import build_laplacian, solve_sdp, assignment_solution\n",
    "from data_proc import build_a, build_graph, build_user_to_movies\n",
    "import numpy as np"
   ]
  },
  {
   "cell_type": "markdown",
   "metadata": {},
   "source": [
    "## Fake data to illustrate the integral solution\n",
    "Easy max cut solution. "
   ]
  },
  {
   "cell_type": "code",
   "execution_count": 2,
   "metadata": {
    "collapsed": false
   },
   "outputs": [
    {
     "name": "stdout",
     "output_type": "stream",
     "text": [
      "{'cvxopt_sol': {'status': 'optimal', 'primal slack': 2.4034875355250986e-09, 'residual as primal infeasibility certificate': None, 'iterations': 6, 'primal objective': -75.99999971351623, 'primal infeasibility': 2.422191871671932e-09, 'y': <4x1 matrix, tc='d'>, 'gap': 1.0930142936199193e-06, 'z': <272x1 matrix, tc='d'>, 'x': <10x1 matrix, tc='d'>, 'relative gap': 1.4381767075527133e-08, 'dual infeasibility': 2.277358076017723e-10, 's': <272x1 matrix, tc='d'>, 'dual slack': 1.3267550541781866e-09, 'residual as dual infeasibility certificate': None, 'dual objective': -76.00000052607633}, 'time': 0.02396106719970703, 'obj': 76.00000011979628, 'status': 'optimal'}\n",
      "[ 1.00e+00 -1.00e+00  1.00e+00 -1.00e+00]\n",
      "[-1.00e+00  1.00e+00 -1.00e+00  1.00e+00]\n",
      "[ 1.00e+00 -1.00e+00  1.00e+00 -1.00e+00]\n",
      "[-1.00e+00  1.00e+00 -1.00e+00  1.00e+00]\n",
      "\n"
     ]
    }
   ],
   "source": [
    "W = np.array([[0,4,0,8],[4,0,0,2],[0,0,0,7],[8,2,7,0]])\n",
    "L = build_laplacian(W)\n",
    "X = solve_sdp(L, triangle_inequalities=True)\n",
    "print(X)"
   ]
  },
  {
   "cell_type": "code",
   "execution_count": 3,
   "metadata": {
    "collapsed": false
   },
   "outputs": [
    {
     "name": "stdout",
     "output_type": "stream",
     "text": [
      "[ True False  True False]\n"
     ]
    }
   ],
   "source": [
    "# assignement\n",
    "X_array=np.array(X)\n",
    "assignement_X = assignment_solution(X_array)\n",
    "print(assignement_X)"
   ]
  },
  {
   "cell_type": "markdown",
   "metadata": {},
   "source": [
    "#### We introduce a gamma perturbation for all edges"
   ]
  },
  {
   "cell_type": "code",
   "execution_count": 4,
   "metadata": {
    "collapsed": false
   },
   "outputs": [
    {
     "name": "stdout",
     "output_type": "stream",
     "text": [
      "{'cvxopt_sol': {'status': 'optimal', 'primal slack': 9.250475097309765e-10, 'residual as primal infeasibility certificate': None, 'iterations': 6, 'primal objective': -151.99999986060948, 'primal infeasibility': 9.32246396921122e-10, 'y': <4x1 matrix, tc='d'>, 'gap': 5.447151303842985e-07, 'z': <272x1 matrix, tc='d'>, 'x': <10x1 matrix, tc='d'>, 'relative gap': 3.583652176867274e-09, 'dual infeasibility': 5.4612646964815894e-11, 's': <272x1 matrix, tc='d'>, 'dual slack': 4.2609461606260837e-10, 'residual as dual infeasibility certificate': None, 'dual objective': -152.000000250083}, 'time': 0.007411956787109375, 'obj': 152.00000005534622, 'status': 'optimal'}\n",
      "[ 1.00e+00 -1.00e+00  1.00e+00 -1.00e+00]\n",
      "[-1.00e+00  1.00e+00 -1.00e+00  1.00e+00]\n",
      "[ 1.00e+00 -1.00e+00  1.00e+00 -1.00e+00]\n",
      "[-1.00e+00  1.00e+00 -1.00e+00  1.00e+00]\n",
      "\n",
      "[ True False  True False]\n"
     ]
    }
   ],
   "source": [
    "gamma = 2\n",
    "W_gamma1 = gamma * W\n",
    "L = build_laplacian(W_gamma1)\n",
    "X = solve_sdp(L, triangle_inequalities=True)\n",
    "print(X)\n",
    "X_array=np.array(X)\n",
    "assignement_X = assignment_solution(X_array)\n",
    "print(assignement_X)"
   ]
  },
  {
   "cell_type": "markdown",
   "metadata": {},
   "source": [
    "#### We introduce a gamma perturbation for only part of the edges"
   ]
  },
  {
   "cell_type": "code",
   "execution_count": 9,
   "metadata": {
    "collapsed": false
   },
   "outputs": [
    {
     "name": "stdout",
     "output_type": "stream",
     "text": [
      "{'cvxopt_sol': {'status': 'optimal', 'primal slack': 1.8075359469820296e-09, 'residual as primal infeasibility certificate': None, 'iterations': 6, 'primal objective': -113.99999976036472, 'primal infeasibility': 1.8216027378542246e-09, 'y': <4x1 matrix, tc='d'>, 'gap': 9.395974741139145e-07, 'z': <272x1 matrix, tc='d'>, 'x': <10x1 matrix, tc='d'>, 'relative gap': 8.242083123587793e-09, 'dual infeasibility': 1.2111130055865823e-10, 's': <272x1 matrix, tc='d'>, 'dual slack': 9.602938797574428e-10, 'residual as dual infeasibility certificate': None, 'dual objective': -114.00000044661529}, 'time': 0.007483959197998047, 'obj': 114.00000010349001, 'status': 'optimal'}\n",
      "[ 1.00e+00 -1.00e+00  1.00e+00 -1.00e+00]\n",
      "[-1.00e+00  1.00e+00 -1.00e+00  1.00e+00]\n",
      "[ 1.00e+00 -1.00e+00  1.00e+00 -1.00e+00]\n",
      "[-1.00e+00  1.00e+00 -1.00e+00  1.00e+00]\n",
      "\n",
      "[ True False  True False]\n"
     ]
    }
   ],
   "source": [
    "gamma = 2 # if gamma = 1000 it may not work depending of the mask\n",
    "# random boolean mask for which values will be changed\n",
    "mask = np.random.randint(0,2,size=W.shape).astype(np.bool)\n",
    "\n",
    "# random matrix the same shape of the data\n",
    "W = np.array([[0,4,0,8],[4,0,0,2],[0,0,0,7],[8,2,7,0]])\n",
    "r = gamma * W\n",
    "\n",
    "# use your mask to replace values in your input array\n",
    "W_gamma2 = W\n",
    "W_gamma2[mask] = r[mask]\n",
    "L = build_laplacian(W)\n",
    "X = solve_sdp(L, triangle_inequalities=True)\n",
    "print(X)\n",
    "X_array=np.array(X)\n",
    "assignement_X = assignment_solution(X_array)\n",
    "print(assignement_X)"
   ]
  },
  {
   "cell_type": "markdown",
   "metadata": {},
   "source": [
    "## Simulated data\n",
    "Simulating a bipartite graph with viewers giving grades (between -2.5 and 2.5) to movies."
   ]
  },
  {
   "cell_type": "code",
   "execution_count": 85,
   "metadata": {
    "collapsed": false
   },
   "outputs": [
    {
     "name": "stdout",
     "output_type": "stream",
     "text": [
      "{'cvxopt_sol': {'status': 'optimal', 'primal slack': 7.100027210930522e-10, 'residual as primal infeasibility certificate': None, 'iterations': 7, 'primal objective': -25.999999614701746, 'primal infeasibility': 7.124636446423574e-10, 'y': <6x1 matrix, tc='d'>, 'gap': 7.780167147477235e-07, 'z': <900x1 matrix, tc='d'>, 'x': <21x1 matrix, tc='d'>, 'relative gap': 2.992372024143387e-08, 'dual infeasibility': 2.0973469423445813e-10, 's': <900x1 matrix, tc='d'>, 'dual slack': 4.2476880876434165e-11, 'residual as dual infeasibility certificate': None, 'dual objective': -26.000000268314857}, 'time': 0.023572921752929688, 'obj': 25.9999999415083, 'status': 'optimal'}\n",
      "[ 1.00e+00 -1.00e+00  1.00e+00  1.00e+00  1.00e+00 -1.00e+00]\n",
      "[-1.00e+00  1.00e+00 -1.00e+00 -1.00e+00 -1.00e+00  1.00e+00]\n",
      "[ 1.00e+00 -1.00e+00  1.00e+00  1.00e+00  1.00e+00 -1.00e+00]\n",
      "[ 1.00e+00 -1.00e+00  1.00e+00  1.00e+00  1.00e+00 -1.00e+00]\n",
      "[ 1.00e+00 -1.00e+00  1.00e+00  1.00e+00  1.00e+00 -1.00e+00]\n",
      "[-1.00e+00  1.00e+00 -1.00e+00 -1.00e+00 -1.00e+00  1.00e+00]\n",
      "\n",
      "[ True False  True  True  True False]\n"
     ]
    }
   ],
   "source": [
    "W = np.array([[0,0,0,-2,0,-0.5],[0,0,0,2,2.5,0],[0,0,0,0,-1,2.5],[-2,2,0,0,0,0],[0,2.5,-1,0,0,0],[-0.5,0,2.5,0,0,0]])\n",
    "L = build_laplacian(W)\n",
    "X = solve_sdp(L, triangle_inequalities=True)\n",
    "print(X)\n",
    "X_array=np.array(X)\n",
    "assignement_X = assignment_solution(X_array)\n",
    "print(assignement_X)"
   ]
  },
  {
   "cell_type": "markdown",
   "metadata": {},
   "source": [
    "#### We introduce a gamma perturbation for all edges"
   ]
  },
  {
   "cell_type": "code",
   "execution_count": 68,
   "metadata": {
    "collapsed": false
   },
   "outputs": [
    {
     "name": "stdout",
     "output_type": "stream",
     "text": [
      "{'cvxopt_sol': {'status': 'optimal', 'primal slack': 8.937061110484262e-10, 'residual as primal infeasibility certificate': None, 'iterations': 7, 'primal objective': -51.999999481690224, 'primal infeasibility': 8.968039948176268e-10, 'y': <6x1 matrix, tc='d'>, 'gap': 1.0574242167232863e-06, 'z': <900x1 matrix, tc='d'>, 'x': <21x1 matrix, tc='d'>, 'relative gap': 2.0335081293522263e-08, 'dual infeasibility': 1.404635499023509e-10, 's': <900x1 matrix, tc='d'>, 'dual slack': 6.28433872142255e-11, 'residual as dual infeasibility certificate': None, 'dual objective': -52.00000035785482}, 'time': 0.01899099349975586, 'obj': 51.99999991977252, 'status': 'optimal'}\n",
      "[ 1.00e+00 -1.00e+00  1.00e+00  1.00e+00  1.00e+00 -1.00e+00]\n",
      "[-1.00e+00  1.00e+00 -1.00e+00 -1.00e+00 -1.00e+00  1.00e+00]\n",
      "[ 1.00e+00 -1.00e+00  1.00e+00  1.00e+00  1.00e+00 -1.00e+00]\n",
      "[ 1.00e+00 -1.00e+00  1.00e+00  1.00e+00  1.00e+00 -1.00e+00]\n",
      "[ 1.00e+00 -1.00e+00  1.00e+00  1.00e+00  1.00e+00 -1.00e+00]\n",
      "[-1.00e+00  1.00e+00 -1.00e+00 -1.00e+00 -1.00e+00  1.00e+00]\n",
      "\n",
      "[ True False  True  True  True False]\n"
     ]
    }
   ],
   "source": [
    "gamma = 2\n",
    "W_gamma1 = gamma * W\n",
    "L = build_laplacian(W_gamma1)\n",
    "X = solve_sdp(L, triangle_inequalities=True)\n",
    "print(X)\n",
    "X_array=np.array(X)\n",
    "assignement_X = assignment_solution(X_array)\n",
    "print(assignement_X)"
   ]
  },
  {
   "cell_type": "markdown",
   "metadata": {},
   "source": [
    "#### We introduce a gamma perturbation for only one edge"
   ]
  },
  {
   "cell_type": "code",
   "execution_count": 87,
   "metadata": {
    "collapsed": false
   },
   "outputs": [],
   "source": [
    "gamma = 10 # if gamma = 1000 it may not work anymore\n",
    "# random boolean mask for which values will be changed\n",
    "W_gamma2 = np.array([[0,0,0,-2,0,-0.5*gamma],[0,0,0,2,2.5,0],[0,0,0,0,-1,2.5],[-2,2,0,0,0,0],[0,2.5,-1,0,0,0],[-0.5*gamma,0,2.5,0,0,0]])"
   ]
  },
  {
   "cell_type": "code",
   "execution_count": 88,
   "metadata": {
    "collapsed": false
   },
   "outputs": [
    {
     "name": "stdout",
     "output_type": "stream",
     "text": [
      "{'cvxopt_sol': {'status': 'optimal', 'primal slack': 1.5811769734055775e-09, 'residual as primal infeasibility certificate': None, 'iterations': 7, 'primal objective': -23.999999140950628, 'primal infeasibility': 1.586657774226448e-09, 'y': <6x1 matrix, tc='d'>, 'gap': 1.8553303809509545e-06, 'z': <900x1 matrix, tc='d'>, 'x': <21x1 matrix, tc='d'>, 'relative gap': 7.73054353066725e-08, 'dual infeasibility': 3.348021845681186e-10, 's': <900x1 matrix, tc='d'>, 'dual slack': 1.5124042061070395e-10, 'residual as dual infeasibility certificate': None, 'dual objective': -24.00000069124155}, 'time': 0.02026510238647461, 'obj': 23.999999916096087, 'status': 'optimal'}\n",
      "[ 1.00e+00 -1.00e+00 -1.00e+00  1.00e+00  1.00e+00  1.00e+00]\n",
      "[-1.00e+00  1.00e+00  1.00e+00 -1.00e+00 -1.00e+00 -1.00e+00]\n",
      "[-1.00e+00  1.00e+00  1.00e+00 -1.00e+00 -1.00e+00 -1.00e+00]\n",
      "[ 1.00e+00 -1.00e+00 -1.00e+00  1.00e+00  1.00e+00  1.00e+00]\n",
      "[ 1.00e+00 -1.00e+00 -1.00e+00  1.00e+00  1.00e+00  1.00e+00]\n",
      "[ 1.00e+00 -1.00e+00 -1.00e+00  1.00e+00  1.00e+00  1.00e+00]\n",
      "\n",
      "[ True False False  True  True  True]\n"
     ]
    }
   ],
   "source": [
    "L = build_laplacian(W_gamma2)\n",
    "X = solve_sdp(L, triangle_inequalities=True)\n",
    "print(X)\n",
    "X_array=np.array(X)\n",
    "assignement_X = assignment_solution(X_array)\n",
    "print(assignement_X)"
   ]
  },
  {
   "cell_type": "markdown",
   "metadata": {},
   "source": [
    "## Real data from themoviedb.com\n",
    "Extracting  a sub graph of the entire database"
   ]
  },
  {
   "cell_type": "code",
   "execution_count": 127,
   "metadata": {
    "collapsed": false
   },
   "outputs": [
    {
     "name": "stdout",
     "output_type": "stream",
     "text": [
      "[[ 0.   0.   0.   0.   0.   1.   0.   0.1]\n",
      " [ 0.   0.   0.   0.   0.   2.5 -1.   0. ]\n",
      " [ 0.   0.   0.   0.   1.5  2.5  0.   0. ]\n",
      " [ 0.   0.   0.   0.   0.5  2.5  0.5  1.5]\n",
      " [ 0.   0.   1.5  0.5  0.   0.   0.   0. ]\n",
      " [ 1.   2.5  2.5  2.5  0.   0.   0.   0. ]\n",
      " [ 0.  -1.   0.   0.5  0.   0.   0.   0. ]\n",
      " [ 0.1  0.   0.   1.5  0.   0.   0.   0. ]]\n"
     ]
    }
   ],
   "source": [
    "# building the summary dictionary\n",
    "summary_dictionary = build_user_to_movies('movielens.tsv')\n",
    "# unpacking of the dictionary\n",
    "users_to_movies = summary_dictionary['users_to_movies']\n",
    "n_users = summary_dictionary['n_users']\n",
    "k_users = 4\n",
    "n_movies = summary_dictionary['n_movies']\n",
    "k_movies = 4\n",
    "# building the rating matrix\n",
    "a = build_a(n_users, k_users, n_movies, k_movies, users_to_movies)\n",
    "# building the adjacency matrix\n",
    "W = build_graph(k_users, k_movies, a)\n",
    "print(W)"
   ]
  },
  {
   "cell_type": "code",
   "execution_count": 128,
   "metadata": {
    "collapsed": false
   },
   "outputs": [
    {
     "name": "stdout",
     "output_type": "stream",
     "text": [
      "{'cvxopt_sol': {'status': 'optimal', 'primal slack': 2.7709144118761113e-11, 'residual as primal infeasibility certificate': None, 'iterations': 8, 'primal objective': -48.39999996596714, 'primal infeasibility': 2.7763464056982643e-11, 'y': <8x1 matrix, tc='d'>, 'gap': 6.822142655625111e-08, 'z': <2112x1 matrix, tc='d'>, 'x': <36x1 matrix, tc='d'>, 'relative gap': 1.4095336075252391e-09, 'dual infeasibility': 6.227702352967639e-12, 's': <2112x1 matrix, tc='d'>, 'dual slack': 2.0664026079080596e-12, 'residual as dual infeasibility certificate': None, 'dual objective': -48.40000002558021}, 'time': 0.07303714752197266, 'obj': 48.399999995773676, 'status': 'optimal'}\n",
      "[[ 1.  1.  1.  1. -1. -1.  1. -1.]\n",
      " [ 1.  1.  1.  1. -1. -1.  1. -1.]\n",
      " [ 1.  1.  1.  1. -1. -1.  1. -1.]\n",
      " [ 1.  1.  1.  1. -1. -1.  1. -1.]\n",
      " [-1. -1. -1. -1.  1.  1. -1.  1.]\n",
      " [-1. -1. -1. -1.  1.  1. -1.  1.]\n",
      " [ 1.  1.  1.  1. -1. -1.  1. -1.]\n",
      " [-1. -1. -1. -1.  1.  1. -1.  1.]]\n",
      "[ True  True  True  True False False  True False]\n"
     ]
    }
   ],
   "source": [
    "# the laplacian of the graph\n",
    "L = build_laplacian(W)\n",
    "X = solve_sdp(L, triangle_inequalities=True)\n",
    "X_array=np.array(X)\n",
    "print(np.round(X_array))\n",
    "assignement_X = assignment_solution(X_array)\n",
    "print(assignement_X)"
   ]
  },
  {
   "cell_type": "code",
   "execution_count": 105,
   "metadata": {
    "collapsed": false
   },
   "outputs": [
    {
     "name": "stdout",
     "output_type": "stream",
     "text": [
      "[[ 1.  0.  0. -0. -0. -0.]\n",
      " [ 0.  1.  0. -0. -0. -0.]\n",
      " [ 0.  0.  1. -1. -1. -1.]\n",
      " [-0. -0. -1.  1.  1.  1.]\n",
      " [-0. -0. -1.  1.  1.  1.]\n",
      " [-0. -0. -1.  1.  1.  1.]]\n"
     ]
    }
   ],
   "source": [
    "print(np.round(X_array))"
   ]
  },
  {
   "cell_type": "code",
   "execution_count": null,
   "metadata": {
    "collapsed": true
   },
   "outputs": [],
   "source": []
  }
 ],
 "metadata": {
  "kernelspec": {
   "display_name": "Python 3",
   "language": "python",
   "name": "python3"
  },
  "language_info": {
   "codemirror_mode": {
    "name": "ipython",
    "version": 3
   },
   "file_extension": ".py",
   "mimetype": "text/x-python",
   "name": "python",
   "nbconvert_exporter": "python",
   "pygments_lexer": "ipython3",
   "version": "3.5.2"
  }
 },
 "nbformat": 4,
 "nbformat_minor": 2
}
